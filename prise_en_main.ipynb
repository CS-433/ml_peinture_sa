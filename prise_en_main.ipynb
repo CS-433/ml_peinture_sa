{
 "cells": [
  {
   "cell_type": "code",
   "execution_count": 11,
   "id": "0f57d9bd-2803-484f-b314-be78084f806e",
   "metadata": {},
   "outputs": [],
   "source": [
    "from mask_to_submission import *"
   ]
  },
  {
   "cell_type": "markdown",
   "id": "1f07c136-ba4d-4672-bb05-8c35f3fb2eb5",
   "metadata": {},
   "source": [
    "# Prise en main des fonctions"
   ]
  },
  {
   "cell_type": "markdown",
   "id": "ddea49b8-85f9-4ff9-bfd7-4d452d191538",
   "metadata": {},
   "source": [
    "En gros quand on fait ça prend les images noir/blanc qu'on a obtenu et ça fait le fichier de submission en utilisant un patch de 16 pixels: le code parcours un groupe de 16 pixel et fait la moyenne pour finalement décider un 0 ou un 1"
   ]
  },
  {
   "cell_type": "markdown",
   "id": "9f4df39f-5aac-4cd3-96a0-58e18fdcca10",
   "metadata": {},
   "source": [
    "Quand on aura nos images de prediction noir et blanc on appelera ça"
   ]
  },
  {
   "cell_type": "code",
   "execution_count": 12,
   "id": "5f3e6171-d61d-4c9f-ab8f-284e41defcf5",
   "metadata": {},
   "outputs": [
    {
     "name": "stdout",
     "output_type": "stream",
     "text": [
      "training/groundtruth/satImage_001.png\n",
      "training/groundtruth/satImage_002.png\n",
      "training/groundtruth/satImage_003.png\n",
      "training/groundtruth/satImage_004.png\n",
      "training/groundtruth/satImage_005.png\n",
      "training/groundtruth/satImage_006.png\n",
      "training/groundtruth/satImage_007.png\n",
      "training/groundtruth/satImage_008.png\n",
      "training/groundtruth/satImage_009.png\n",
      "training/groundtruth/satImage_010.png\n",
      "training/groundtruth/satImage_011.png\n",
      "training/groundtruth/satImage_012.png\n",
      "training/groundtruth/satImage_013.png\n",
      "training/groundtruth/satImage_014.png\n",
      "training/groundtruth/satImage_015.png\n",
      "training/groundtruth/satImage_016.png\n",
      "training/groundtruth/satImage_017.png\n",
      "training/groundtruth/satImage_018.png\n",
      "training/groundtruth/satImage_019.png\n",
      "training/groundtruth/satImage_020.png\n",
      "training/groundtruth/satImage_021.png\n",
      "training/groundtruth/satImage_022.png\n",
      "training/groundtruth/satImage_023.png\n",
      "training/groundtruth/satImage_024.png\n",
      "training/groundtruth/satImage_025.png\n",
      "training/groundtruth/satImage_026.png\n",
      "training/groundtruth/satImage_027.png\n",
      "training/groundtruth/satImage_028.png\n",
      "training/groundtruth/satImage_029.png\n",
      "training/groundtruth/satImage_030.png\n",
      "training/groundtruth/satImage_031.png\n",
      "training/groundtruth/satImage_032.png\n",
      "training/groundtruth/satImage_033.png\n",
      "training/groundtruth/satImage_034.png\n",
      "training/groundtruth/satImage_035.png\n",
      "training/groundtruth/satImage_036.png\n",
      "training/groundtruth/satImage_037.png\n",
      "training/groundtruth/satImage_038.png\n",
      "training/groundtruth/satImage_039.png\n",
      "training/groundtruth/satImage_040.png\n",
      "training/groundtruth/satImage_041.png\n",
      "training/groundtruth/satImage_042.png\n",
      "training/groundtruth/satImage_043.png\n",
      "training/groundtruth/satImage_044.png\n",
      "training/groundtruth/satImage_045.png\n",
      "training/groundtruth/satImage_046.png\n",
      "training/groundtruth/satImage_047.png\n",
      "training/groundtruth/satImage_048.png\n",
      "training/groundtruth/satImage_049.png\n",
      "training/groundtruth/satImage_050.png\n"
     ]
    }
   ],
   "source": [
    "submission_filename = 'dummy_submission.csv'\n",
    "image_filenames = []\n",
    "for i in range(1, 51):\n",
    "    image_filename = 'training/groundtruth/satImage_' + '%.3d' % i + '.png'\n",
    "    print(image_filename)\n",
    "    image_filenames.append(image_filename)\n",
    "masks_to_submission(submission_filename, *image_filenames)"
   ]
  },
  {
   "cell_type": "code",
   "execution_count": 13,
   "id": "b3b75c65-9265-426d-af7c-2a423871c274",
   "metadata": {},
   "outputs": [],
   "source": [
    "from submission_to_mask import *"
   ]
  },
  {
   "cell_type": "markdown",
   "id": "df9e4148-1f9d-4569-944f-a2263cbfb7db",
   "metadata": {},
   "source": [
    "Au contraire en faisant ça, on peut recontruire l'image en noir et blanc à partir d'un .csv de prédiction"
   ]
  },
  {
   "cell_type": "code",
   "execution_count": 14,
   "id": "78752629-4ef8-48a9-a427-930a13804c20",
   "metadata": {},
   "outputs": [],
   "source": [
    "for i in range(1, 5):\n",
    "    reconstruct_from_labels(i)"
   ]
  },
  {
   "cell_type": "code",
   "execution_count": null,
   "id": "fa3d3388-9882-4166-b1d5-6437caee3ce9",
   "metadata": {},
   "outputs": [],
   "source": []
  }
 ],
 "metadata": {
  "kernelspec": {
   "display_name": "Python 3 (ipykernel)",
   "language": "python",
   "name": "python3"
  },
  "language_info": {
   "codemirror_mode": {
    "name": "ipython",
    "version": 3
   },
   "file_extension": ".py",
   "mimetype": "text/x-python",
   "name": "python",
   "nbconvert_exporter": "python",
   "pygments_lexer": "ipython3",
   "version": "3.9.12"
  }
 },
 "nbformat": 4,
 "nbformat_minor": 5
}

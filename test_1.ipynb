{
 "cells": [
  {
   "cell_type": "code",
   "execution_count": 1,
   "id": "47670458-635e-41e4-9414-2d5a23898d09",
   "metadata": {},
   "outputs": [],
   "source": [
    "import numpy as np\n",
    "import torch\n",
    "import torch.nn as nn\n",
    "import torch.nn.functional as F\n",
    "import torchvision\n",
    "import torchvision.transforms as transforms\n",
    "import torchvision.datasets as data"
   ]
  },
  {
   "cell_type": "code",
   "execution_count": 26,
   "id": "b602cced-0b0a-4ab4-9531-998201ffa907",
   "metadata": {},
   "outputs": [],
   "source": [
    "class conv(nn.Module):\n",
    "    def __init__(self, input_channel, output_channel):\n",
    "        super(conv, self).__init__()\n",
    "        \n",
    "        self.conv1 = nn.Conv2d(input_channel, output_channel, kernel_size=3, padding=1)\n",
    "        self.bn1 = nn.BatchNorm2d(output_channel)\n",
    "        \n",
    "        self.conv2 = nn.Conv2d(output_channel, output_channel, kernel_size=3, padding=1)\n",
    "        self.bn2 = nn.BatchNorm2d(output_channel)\n",
    "        \n",
    "        self.relu = nn.ReLU()\n",
    "        \n",
    "    def forward(self, Z):\n",
    "        Z = self.conv1(Z)\n",
    "        Z = self.bn1(Z)\n",
    "        Z = self.relu(Z)\n",
    "        \n",
    "        Z = self.conv2(Z)\n",
    "        Z = self.bn2(Z)\n",
    "        Z = self.relu(Z)\n",
    "        \n",
    "        return Z\n",
    "    \n",
    "\n",
    "class encoder(nn.Module):\n",
    "    def __init__(self, input_channel, output_channel):\n",
    "        super(encoder, self).__init__()\n",
    "        \n",
    "        self.conv = conv(input_channel, output_channel)\n",
    "        self.pool = nn.MaxPool2d((2,2))\n",
    "        \n",
    "        \n",
    "    def forward(self, Z):\n",
    "        Z = self.conv(Z)\n",
    "        P = self.pool(Z)\n",
    "        \n",
    "        return Z, P\n",
    "    \n",
    "class decoder(nn.Module):\n",
    "    def __init__(self, input_channel, output_channel):\n",
    "        super(decoder, self).__init__()\n",
    "        \n",
    "        self.up = nn.ConvTranspose2d(input_channel, output_channel, kernel_size=2, stride=2, padding=0)\n",
    "        self.conv = conv(output_channel+output_channel, output_channel)\n",
    "        \n",
    "    def forward(self, Z, skip):\n",
    "        Z = self.up(Z)\n",
    "        Z = torch.cat([Z, skip], axis=1)\n",
    "        Z = self.conv(Z)\n",
    "        \n",
    "        return Z\n",
    "\n",
    "class build_unet(nn.Module):\n",
    "    def __init__(self):\n",
    "        super(build_unet, self).__init__()\n",
    "        \n",
    "        \"\"\"Encoder\"\"\"\n",
    "        self.e1 = encoder(3, 64)\n",
    "        self.e2 = encoder(64, 128)\n",
    "        self.e3 = encoder(128, 256)\n",
    "        #self.e4 = encoder(256, 512)\n",
    "        \n",
    "        \"\"\"Bottleneck\"\"\"\n",
    "        #self.b = conv(512, 1024)\n",
    "        self.b = conv(256, 512)\n",
    "        \n",
    "        \n",
    "        \"\"\"Decoder\"\"\"\n",
    "        self.d1 = decoder(512, 256)\n",
    "        self.d2 = decoder(256, 128)\n",
    "        self.d3 = decoder(128, 64)\n",
    "        #self.d4 = decoder(128, 64)\n",
    "        \n",
    "        \"\"\"Output\"\"\"\n",
    "        self.output = nn.Conv2d(64, 2, kernel_size=1, padding=0)\n",
    "        \n",
    "    def forward(self, Z):\n",
    "        Z1, P1 = self.e1(Z)\n",
    "        Z2, P2 = self.e2(P1)\n",
    "        Z3, P3 = self.e3(P2)\n",
    "        #Z4, P4 = self.e4(Z3)\n",
    "            \n",
    "        b = self.b(P3)\n",
    "\n",
    "        Z5 = self.d1(b, Z3)\n",
    "        Z6 = self.d2(Z5, Z2)\n",
    "        Z7 = self.d3(Z6, Z1)\n",
    "        #Z8 = self.d4(Z7, P1)\n",
    "        \n",
    "        output = self.output(Z7)\n",
    "        \n",
    "        return output\n",
    "        "
   ]
  },
  {
   "cell_type": "code",
   "execution_count": 27,
   "id": "ba1431b1-4bb6-447c-a9f0-13b1d475287c",
   "metadata": {},
   "outputs": [],
   "source": [
    "def set_device():\n",
    "    if torch.cuda.is_available():\n",
    "        dev =\"cuda:0\"\n",
    "    else:\n",
    "        dev = \"cpu\"\n",
    "    return torch.device(dev)"
   ]
  },
  {
   "cell_type": "code",
   "execution_count": 28,
   "id": "b93e71a6-e809-4ab6-9d33-3db4b3d98771",
   "metadata": {},
   "outputs": [],
   "source": [
    "inputs = torch.randn((2, 3, 512, 512))\n",
    "model = build_unet()\n",
    "inputs = inputs.to(set_device())\n",
    "x = model(inputs)"
   ]
  },
  {
   "cell_type": "code",
   "execution_count": 30,
   "id": "4412fd77-4b29-49bf-87ff-1a540ef921fc",
   "metadata": {},
   "outputs": [
    {
     "name": "stdout",
     "output_type": "stream",
     "text": [
      "torch.Size([2, 2, 512, 512])\n"
     ]
    }
   ],
   "source": [
    "print(x.shape)"
   ]
  },
  {
   "cell_type": "code",
   "execution_count": 31,
   "id": "ce61259e-bbd0-4316-99d4-0ed1194567d4",
   "metadata": {},
   "outputs": [],
   "source": [
    "train_data_images = torchvision.datasets.ImageFolder(root = 'training/images', loader = torchvision.io.read_image)\n",
    "train_data_groundtruth = torchvision.datasets.ImageFolder(root = 'training/groundtruth', loader = torchvision.io.read_image)\n",
    "train_loader_images = torch.utils.data.DataLoader(train_data_images)"
   ]
  },
  {
   "cell_type": "code",
   "execution_count": null,
   "id": "5df00a13-268d-4f50-93bb-266a46c35e2c",
   "metadata": {},
   "outputs": [],
   "source": []
  }
 ],
 "metadata": {
  "kernelspec": {
   "display_name": "Python 3 (ipykernel)",
   "language": "python",
   "name": "python3"
  },
  "language_info": {
   "codemirror_mode": {
    "name": "ipython",
    "version": 3
   },
   "file_extension": ".py",
   "mimetype": "text/x-python",
   "name": "python",
   "nbconvert_exporter": "python",
   "pygments_lexer": "ipython3",
   "version": "3.9.12"
  }
 },
 "nbformat": 4,
 "nbformat_minor": 5
}

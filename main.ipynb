{
 "cells": [
  {
   "cell_type": "code",
   "execution_count": 1,
   "id": "179df80a-6e20-415d-8047-a493a179a06b",
   "metadata": {},
   "outputs": [],
   "source": [
    "import numpy as np\n",
    "#import matplotlib.image as mpimg\n",
    "#import re\n",
    "#import cv2\n",
    "#import os\n",
    "import torch\n",
    "import torch.nn as nn\n",
    "import torch.nn.functional as F\n",
    "import torchvision\n",
    "import torchvision.transforms as transforms\n",
    "import torchvision.datasets as data"
   ]
  },
  {
   "cell_type": "code",
   "execution_count": 2,
   "id": "b719f442-e09c-448d-9ff3-a1f8d050df4f",
   "metadata": {},
   "outputs": [],
   "source": [
    "train_transforms = transforms.Compose([transforms.Resize((224,224))])"
   ]
  },
  {
   "cell_type": "code",
   "execution_count": 3,
   "id": "018ca941-584b-4a24-b239-ce48377991e7",
   "metadata": {},
   "outputs": [],
   "source": [
    "train_data_images = torchvision.datasets.ImageFolder(root = 'training/images', loader = torchvision.io.read_image)\n",
    "train_data_groundtruth = torchvision.datasets.ImageFolder(root = 'training/groundtruth', loader = torchvision.io.read_image)"
   ]
  },
  {
   "cell_type": "code",
   "execution_count": 4,
   "id": "6e0117f3-eadb-431a-b4da-7faac308abb1",
   "metadata": {},
   "outputs": [
    {
     "ename": "AttributeError",
     "evalue": "'ImageFolder' object has no attribute 'size'",
     "output_type": "error",
     "traceback": [
      "\u001b[1;31m---------------------------------------------------------------------------\u001b[0m",
      "\u001b[1;31mAttributeError\u001b[0m                            Traceback (most recent call last)",
      "Input \u001b[1;32mIn [4]\u001b[0m, in \u001b[0;36m<cell line: 1>\u001b[1;34m()\u001b[0m\n\u001b[1;32m----> 1\u001b[0m \u001b[38;5;28mprint\u001b[39m(\u001b[43mtrain_data_groundtruth\u001b[49m\u001b[38;5;241;43m.\u001b[39;49m\u001b[43msize\u001b[49m())\n",
      "\u001b[1;31mAttributeError\u001b[0m: 'ImageFolder' object has no attribute 'size'"
     ]
    }
   ],
   "source": [
    "print(train_data_groundtruth.size())"
   ]
  },
  {
   "cell_type": "code",
   "execution_count": null,
   "id": "3b9efc24-9f74-4aee-8c5c-0aa6364570fc",
   "metadata": {},
   "outputs": [],
   "source": [
    "# Red pixel value\n",
    "print(train_data_images[0][0][0].size())\n",
    "# Green pixel value\n",
    "print(train_data_images[0][0][1].size())\n",
    "# Blue pixel value\n",
    "print(train_data_images[0][0][2].size())\n",
    "#length train_data_images\n",
    "print(len(train_data_images))"
   ]
  },
  {
   "cell_type": "code",
   "execution_count": null,
   "id": "e42b4df3-6be4-4641-b10f-efd6281844fb",
   "metadata": {},
   "outputs": [],
   "source": [
    "train_images = []\n",
    "for i in range (len(train_data_images)):\n",
    "    train_images.append(torch.stack((train_data_images[i][0][0], train_data_images[i][0][1], train_data_images[i][0][2]), -1))"
   ]
  },
  {
   "cell_type": "code",
   "execution_count": null,
   "id": "102400d0-379d-4c32-be3a-f833389c8e65",
   "metadata": {},
   "outputs": [],
   "source": [
    "train_groundtruth = []\n",
    "for j in range (len(train_data_groundtruth)):\n",
    "    train_groundtruth.append(train_data_groundtruth[i][0][0])"
   ]
  },
  {
   "cell_type": "code",
   "execution_count": null,
   "id": "b969f5eb-fc02-442b-b770-258da6afa9fd",
   "metadata": {},
   "outputs": [],
   "source": [
    "print(train_images[0].size())"
   ]
  },
  {
   "cell_type": "code",
   "execution_count": null,
   "id": "5947b490-e908-4fca-aa75-30482184f3d2",
   "metadata": {},
   "outputs": [],
   "source": [
    "train_loader_images = torch.utils.data.DataLoader(train_data_images,batch_size=4)\n",
    "train_loader_groundtruth = torch.utils.data.DataLoader(train_data_groundtruth,batch_size=4)"
   ]
  },
  {
   "cell_type": "code",
   "execution_count": null,
   "id": "c24d34bf-0708-41e7-9d12-3ba3f5e8a52a",
   "metadata": {},
   "outputs": [],
   "source": [
    "def set_device():\n",
    "    if torch.cuda.is_available():\n",
    "        dev =\"cuda:0\"\n",
    "    else:\n",
    "        dev = \"cpu\"\n",
    "    return torch.device(dev)"
   ]
  },
  {
   "cell_type": "code",
   "execution_count": null,
   "id": "cbd06fa8-ea5e-47ff-94f6-3b89c4b22f87",
   "metadata": {},
   "outputs": [],
   "source": [
    "class Model(nn.Module):\n",
    "    # Models in PyTorch usually inherit from this Module\n",
    "    def __init__(self):\n",
    "        super(Model, self).__init__()\n",
    "        \n",
    "        self.conv1 = nn.Conv2d(3, 6, 5)\n",
    "        self.pool = nn.MaxPool2d(2, 2)\n",
    "        self.conv2 = nn.Conv2d(6, 16, 5)\n",
    "        self.fc1 = nn.Linear(16 * 5 * 5, 128)\n",
    "        self.fc2 = nn.Linear(120, 84)\n",
    "        self.fc3 = nn.Linear(84, 2)\n",
    "        \n",
    "        '''\n",
    "        self.input_layer = torch.nn.Linear(50176, 128)\n",
    "        self.input_phi = torch.nn.ReLU()\n",
    "        self.layer1 = torch.nn.Linear(128, 128)\n",
    "        self.phi1 = torch.nn.ReLU()\n",
    "        self.layer2 = torch.nn.Linear(128, 128)\n",
    "        self.phi2 = torch.nn.ReLU()\n",
    "        self.output_layer = torch.nn.Linear(128, 10)\n",
    "        '''\n",
    "    def forward(self, Z):\n",
    "        # -> n, 3, 32, 32\n",
    "        Z = self.pool(F.relu(self.conv1(Z)))  # -> n, 6, 14, 14\n",
    "        Z = self.pool(F.relu(self.conv2(Z)))  # -> n, 16, 5, 5\n",
    "        Z = Z.view(-1, 16 * 5 * 5)            # -> n, 400\n",
    "        Z = F.relu(self.fc1(Z))               # -> n, 120\n",
    "        Z = F.relu(self.fc2(Z))               # -> n, 84\n",
    "        Z = self.fc3(Z)                       # -> n, 10\n",
    "        \n",
    "        '''\n",
    "        Z = torch.flatten(Z, 1)  # Flatten (n, 28, 28) to (n, 784)\n",
    "        Z = Z.to(torch.float32)\n",
    "        Z = self.input_layer(Z)\n",
    "        Z = self.input_phi(Z)\n",
    "\n",
    "        Z = self.layer1(Z)\n",
    "        Z = self.phi1(Z)\n",
    "\n",
    "        Z = self.layer2(Z)\n",
    "        Z = self.phi2(Z)\n",
    "\n",
    "        Z = self.output_layer(Z)\n",
    "        '''\n",
    "\n",
    "        return Z       "
   ]
  },
  {
   "cell_type": "code",
   "execution_count": null,
   "id": "c9e710d9-3aaa-4b7a-b1f8-749f3f5abe8e",
   "metadata": {},
   "outputs": [],
   "source": [
    "def train_epoch(model, device, train_data_images, train_data_groundtruth, optimizer, max_iter, criterion):\n",
    "    model.train()\n",
    "    \n",
    "    loss_history = []\n",
    "    accuracy_history = [] \n",
    "    \n",
    "    #batch = np.random.choice(np.arange(len(train_data_images)), size=30, replace=False)\n",
    "    \n",
    "    \n",
    "    for i, (images, labels) in enumerate(train_loader):        \n",
    "        x = train_images[batch_idx]\n",
    "        y = train_groundtruth[batch_idx]\n",
    "        x = x.to(device)\n",
    "        y = y.to(device)\n",
    "        \n",
    "        y_hat = model(x)  \n",
    "                \n",
    "        print(y_hat.size())\n",
    "        print(y.size())\n",
    "        \n",
    "        loss = criterion(y_hat, y)\n",
    "\n",
    "        optimizer.zero_grad()\n",
    "        loss.backward()\n",
    "        optimizer.step()\n",
    "        \n",
    "        pred = y_hat.argmax(dim=1, keepdim=True)\n",
    "        correct = pred.eq(y.view_as(pred)).sum().item()\n",
    "\n",
    "        loss_history.append(loss.item())\n",
    "        accuracy_history.append(correct / len(x))\n",
    "\n",
    "        if batch_idx % (len(train_data_images.dataset) // len(x) // 10) == 0:\n",
    "            print(\n",
    "                f\"Train Epoch: {epoch}-{batch_idx} batch_loss={loss.item()/len(x):0.2e} batch_acc={correct/len(x):0.3f}\"\n",
    "            )\n",
    "\n",
    "    return loss_history, accuracy_history\n",
    "        \n",
    "        "
   ]
  },
  {
   "cell_type": "code",
   "execution_count": null,
   "id": "b2bdf86a-62b0-410c-bcce-5b24fe761730",
   "metadata": {},
   "outputs": [],
   "source": [
    "model = ConvNet().to(device)\n",
    "\n",
    "criterion = nn.CrossEntropyLoss()\n",
    "optimizer = torch.optim.SGD(model.parameters(), lr=learning_rate)\n",
    "\n",
    "n_total_steps = len(train_loader)\n",
    "for epoch in range(num_epochs):\n",
    "    for i, (images, labels) in enumerate(train_loader):\n",
    "        # origin shape: [4, 3, 32, 32] = 4, 3, 1024\n",
    "        # input_layer: 3 input channels, 6 output channels, 5 kernel size\n",
    "        images = images.to(device)\n",
    "        labels = labels.to(device)\n",
    "\n",
    "        # Forward pass\n",
    "        outputs = model(images)\n",
    "        loss = criterion(outputs, labels)\n",
    "\n",
    "        # Backward and optimize\n",
    "        optimizer.zero_grad()\n",
    "        loss.backward()\n",
    "        optimizer.step()\n",
    "\n",
    "        if (i+1) % 2000 == 0:\n",
    "            print (f'Epoch [{epoch+1}/{num_epochs}], Step [{i+1}/{n_total_steps}], Loss: {loss.item():.4f}')"
   ]
  },
  {
   "cell_type": "code",
   "execution_count": null,
   "id": "ae4e026e-cfc8-40f5-835b-b8cf5c261d21",
   "metadata": {},
   "outputs": [],
   "source": [
    "def run_mnist_training(num_epochs, lr, device):\n",
    "    \n",
    "    # ===== Model, Optimizer and Criterion =====\n",
    "    model = Model()\n",
    "    model = model.to(device)\n",
    "    optimizer = torch.optim.Adam(model.parameters(), lr=lr)\n",
    "    criterion = torch.nn.functional.cross_entropy\n",
    "    \n",
    "    # ===== Train Model =====\n",
    "    train_loss_history = []\n",
    "    train_acc_history = []\n",
    "    for epoch in range(1, num_epochs + 1):\n",
    "        train_loss, train_acc = train_epoch(\n",
    "            model, device, train_data_images, train_data_groundtruth, optimizer, epoch, criterion)\n",
    "        train_loss_history.extend(train_loss)\n",
    "        train_acc_history.extend(train_acc)\n",
    "        \n",
    "    # ===== Plot training curves =====\n",
    "    n_train = len(train_acc_history)\n",
    "    t_train = num_epochs * np.arange(n_train) / n_train\n",
    "    t_val = np.arange(1, num_epochs + 1)\n",
    "    plt.figure()\n",
    "    plt.plot(t_train, train_acc_history, label=\"Train\")\n",
    "    plt.legend()\n",
    "    plt.xlabel(\"Epoch\")\n",
    "    plt.ylabel(\"Accuracy\")\n",
    "\n",
    "    plt.figure()\n",
    "    plt.plot(t_train, train_loss_history, label=\"Train\")\n",
    "    plt.legend()\n",
    "    plt.xlabel(\"Epoch\")\n",
    "    plt.ylabel(\"Loss\")"
   ]
  },
  {
   "cell_type": "code",
   "execution_count": null,
   "id": "3aa64389-7d8f-4c3c-b40d-4b36ced6b67d",
   "metadata": {},
   "outputs": [],
   "source": [
    "lr = 5e-3\n",
    "num_epochs = 2\n",
    "device = set_device()\n",
    "\n",
    "run_mnist_training(num_epochs, lr, device)"
   ]
  },
  {
   "cell_type": "code",
   "execution_count": null,
   "id": "d4f8c690-e080-4a73-9f2e-c3607e50892b",
   "metadata": {},
   "outputs": [],
   "source": []
  }
 ],
 "metadata": {
  "kernelspec": {
   "display_name": "Python 3 (ipykernel)",
   "language": "python",
   "name": "python3"
  },
  "language_info": {
   "codemirror_mode": {
    "name": "ipython",
    "version": 3
   },
   "file_extension": ".py",
   "mimetype": "text/x-python",
   "name": "python",
   "nbconvert_exporter": "python",
   "pygments_lexer": "ipython3",
   "version": "3.9.12"
  }
 },
 "nbformat": 4,
 "nbformat_minor": 5
}

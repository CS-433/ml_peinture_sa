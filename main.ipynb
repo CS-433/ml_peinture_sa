{
 "cells": [
  {
   "cell_type": "code",
   "execution_count": 121,
   "id": "179df80a-6e20-415d-8047-a493a179a06b",
   "metadata": {},
   "outputs": [],
   "source": [
    "import numpy as np\n",
    "import matplotlib.image as mpimg\n",
    "import re\n",
    "import cv2\n",
    "import os\n",
    "import torch\n",
    "import torchvision\n",
    "import torchvision.transforms as transforms\n",
    "import torchvision.datasets as data\n",
    "import torch.nn as nn"
   ]
  },
  {
   "cell_type": "code",
   "execution_count": 122,
   "id": "b719f442-e09c-448d-9ff3-a1f8d050df4f",
   "metadata": {},
   "outputs": [],
   "source": [
    "train_transforms = transforms.Compose([transforms.Resize((224,224))])"
   ]
  },
  {
   "cell_type": "code",
   "execution_count": 148,
   "id": "018ca941-584b-4a24-b239-ce48377991e7",
   "metadata": {},
   "outputs": [],
   "source": [
    "train_data_images = torchvision.datasets.ImageFolder(root = 'training/images', transform = train_transforms, loader = torchvision.io.read_image)\n",
    "train_data_groundtruth = torchvision.datasets.ImageFolder(root = 'training/groundtruth', transform = train_transforms, loader = torchvision.io.read_image)"
   ]
  },
  {
   "cell_type": "code",
   "execution_count": 124,
   "id": "3b9efc24-9f74-4aee-8c5c-0aa6364570fc",
   "metadata": {},
   "outputs": [
    {
     "name": "stdout",
     "output_type": "stream",
     "text": [
      "torch.Size([224, 224])\n",
      "torch.Size([224, 224])\n",
      "torch.Size([224, 224])\n",
      "100\n"
     ]
    }
   ],
   "source": [
    "# Red pixel value\n",
    "print(train_data_images[0][0][0].size())\n",
    "# Green pixel value\n",
    "print(train_data_images[0][0][1].size())\n",
    "# Blue pixel value\n",
    "print(train_data_images[0][0][2].size())\n",
    "#length train_data_images\n",
    "print(len(train_data_images))"
   ]
  },
  {
   "cell_type": "code",
   "execution_count": 83,
   "id": "5947b490-e908-4fca-aa75-30482184f3d2",
   "metadata": {},
   "outputs": [],
   "source": [
    "train_loader_images = torch.utils.data.DataLoader(train_data_images,batch_size=30)\n",
    "train_loader_groundtruth = torch.utils.data.DataLoader(train_data_groundtruth,batch_size=30)"
   ]
  },
  {
   "cell_type": "code",
   "execution_count": 107,
   "id": "4bcb5590-b04d-4b09-b74e-4ecd72691183",
   "metadata": {},
   "outputs": [
    {
     "ename": "AttributeError",
     "evalue": "'DataLoader' object has no attribute 'getitems'",
     "output_type": "error",
     "traceback": [
      "\u001b[1;31m---------------------------------------------------------------------------\u001b[0m",
      "\u001b[1;31mAttributeError\u001b[0m                            Traceback (most recent call last)",
      "Input \u001b[1;32mIn [107]\u001b[0m, in \u001b[0;36m<cell line: 1>\u001b[1;34m()\u001b[0m\n\u001b[1;32m----> 1\u001b[0m \u001b[38;5;28mprint\u001b[39m(\u001b[43mtrain_loader_images\u001b[49m\u001b[38;5;241;43m.\u001b[39;49m\u001b[43mgetitems\u001b[49m())\n",
      "\u001b[1;31mAttributeError\u001b[0m: 'DataLoader' object has no attribute 'getitems'"
     ]
    }
   ],
   "source": [
    "print(train_loader_images.getitems())"
   ]
  },
  {
   "cell_type": "code",
   "execution_count": 125,
   "id": "c24d34bf-0708-41e7-9d12-3ba3f5e8a52a",
   "metadata": {},
   "outputs": [],
   "source": [
    "def set_device():\n",
    "    if torch.cuda.is_available():\n",
    "        dev =\"cuda:0\"\n",
    "    else:\n",
    "        dev = \"cpu\"\n",
    "    return torch.device(dev)"
   ]
  },
  {
   "cell_type": "code",
   "execution_count": 183,
   "id": "cbd06fa8-ea5e-47ff-94f6-3b89c4b22f87",
   "metadata": {},
   "outputs": [],
   "source": [
    "class Model(nn.Module):\n",
    "    # Models in PyTorch usually inherit from this Module\n",
    "    def __init__(self):\n",
    "        super().__init__()\n",
    "\n",
    "        self.input_layer = torch.nn.Linear(50176, 128)\n",
    "        self.input_phi = torch.nn.ReLU()\n",
    "        self.layer1 = torch.nn.Linear(128, 128)\n",
    "        self.phi1 = torch.nn.ReLU()\n",
    "        self.layer2 = torch.nn.Linear(128, 128)\n",
    "        self.phi2 = torch.nn.ReLU()\n",
    "        self.output_layer = torch.nn.Linear(128, 10)\n",
    "        \n",
    "    def forward(self, Z):\n",
    "        Z = torch.flatten(Z, 1)  # Flatten (n, 28, 28) to (n, 784)\n",
    "        Z = Z.to(torch.float32)\n",
    "        Z = self.input_layer(Z)\n",
    "        Z = self.input_phi(Z)\n",
    "\n",
    "        Z = self.layer1(Z)\n",
    "        Z = self.phi1(Z)\n",
    "\n",
    "        Z = self.layer2(Z)\n",
    "        Z = self.phi2(Z)\n",
    "\n",
    "        Z = self.output_layer(Z)\n",
    "\n",
    "        return Z       "
   ]
  },
  {
   "cell_type": "code",
   "execution_count": 184,
   "id": "c9e710d9-3aaa-4b7a-b1f8-749f3f5abe8e",
   "metadata": {},
   "outputs": [],
   "source": [
    "def train_epoch(model, device, train_data_images, train_data_groundtruth, optimizer, max_iter, criterion):\n",
    "    model.train()\n",
    "    \n",
    "    loss_history = []\n",
    "    accuracy_history = [] \n",
    "    batch = np.random.choice(np.arange(len(train_data_images)), size=30, replace=False)\n",
    "    \n",
    "    for i, batch_idx in enumerate (batch):        \n",
    "        x = train_data_images[batch_idx][0]\n",
    "        y = train_data_groundtruth[batch_idx][0]\n",
    "        x = x.to(device)\n",
    "        y = y.to(device)\n",
    "        \n",
    "        y_hat = model(x)       \n",
    "        loss = criterion(y_hat, y)\n",
    "        \n",
    "        optimizer.zero_grad()\n",
    "        loss.backward()\n",
    "        optimizer.step()\n",
    "        \n",
    "        pred = y_hat.argmax(dim=1, keepdim=True)\n",
    "        correct = pred.eq(y.view_as(pred)).sum().item()\n",
    "\n",
    "        loss_history.append(loss.item())\n",
    "        accuracy_history.append(correct / len(x))\n",
    "\n",
    "        if batch_idx % (len(train_data_images.dataset) // len(x) // 10) == 0:\n",
    "            print(\n",
    "                f\"Train Epoch: {epoch}-{batch_idx} batch_loss={loss.item()/len(x):0.2e} batch_acc={correct/len(x):0.3f}\"\n",
    "            )\n",
    "\n",
    "    return loss_history, accuracy_history\n",
    "        \n",
    "        "
   ]
  },
  {
   "cell_type": "code",
   "execution_count": 185,
   "id": "ae4e026e-cfc8-40f5-835b-b8cf5c261d21",
   "metadata": {},
   "outputs": [],
   "source": [
    "def run_mnist_training(num_epochs, lr, device):\n",
    "    \n",
    "    # ===== Model, Optimizer and Criterion =====\n",
    "    model = Model()\n",
    "    model = model.to(device)\n",
    "    optimizer = torch.optim.Adam(model.parameters(), lr=lr)\n",
    "    criterion = torch.nn.functional.cross_entropy\n",
    "    \n",
    "    # ===== Train Model =====\n",
    "    train_loss_history = []\n",
    "    train_acc_history = []\n",
    "    for epoch in range(1, num_epochs + 1):\n",
    "        train_loss, train_acc = train_epoch(\n",
    "            model, device, train_data_images, train_data_groundtruth, optimizer, epoch, criterion)\n",
    "        train_loss_history.extend(train_loss)\n",
    "        train_acc_history.extend(train_acc)\n",
    "        \n",
    "    # ===== Plot training curves =====\n",
    "    n_train = len(train_acc_history)\n",
    "    t_train = num_epochs * np.arange(n_train) / n_train\n",
    "    t_val = np.arange(1, num_epochs + 1)\n",
    "    plt.figure()\n",
    "    plt.plot(t_train, train_acc_history, label=\"Train\")\n",
    "    plt.legend()\n",
    "    plt.xlabel(\"Epoch\")\n",
    "    plt.ylabel(\"Accuracy\")\n",
    "\n",
    "    plt.figure()\n",
    "    plt.plot(t_train, train_loss_history, label=\"Train\")\n",
    "    plt.legend()\n",
    "    plt.xlabel(\"Epoch\")\n",
    "    plt.ylabel(\"Loss\")"
   ]
  },
  {
   "cell_type": "code",
   "execution_count": 186,
   "id": "3aa64389-7d8f-4c3c-b40d-4b36ced6b67d",
   "metadata": {},
   "outputs": [
    {
     "ename": "ValueError",
     "evalue": "Expected input batch_size (3) to match target batch_size (1).",
     "output_type": "error",
     "traceback": [
      "\u001b[1;31m---------------------------------------------------------------------------\u001b[0m",
      "\u001b[1;31mValueError\u001b[0m                                Traceback (most recent call last)",
      "Input \u001b[1;32mIn [186]\u001b[0m, in \u001b[0;36m<cell line: 5>\u001b[1;34m()\u001b[0m\n\u001b[0;32m      2\u001b[0m num_epochs \u001b[38;5;241m=\u001b[39m \u001b[38;5;241m2\u001b[39m\n\u001b[0;32m      3\u001b[0m device \u001b[38;5;241m=\u001b[39m set_device()\n\u001b[1;32m----> 5\u001b[0m \u001b[43mrun_mnist_training\u001b[49m\u001b[43m(\u001b[49m\u001b[43mnum_epochs\u001b[49m\u001b[43m,\u001b[49m\u001b[43m \u001b[49m\u001b[43mlr\u001b[49m\u001b[43m,\u001b[49m\u001b[43m \u001b[49m\u001b[43mdevice\u001b[49m\u001b[43m)\u001b[49m\n",
      "Input \u001b[1;32mIn [185]\u001b[0m, in \u001b[0;36mrun_mnist_training\u001b[1;34m(num_epochs, lr, device)\u001b[0m\n\u001b[0;32m     11\u001b[0m train_acc_history \u001b[38;5;241m=\u001b[39m []\n\u001b[0;32m     12\u001b[0m \u001b[38;5;28;01mfor\u001b[39;00m epoch \u001b[38;5;129;01min\u001b[39;00m \u001b[38;5;28mrange\u001b[39m(\u001b[38;5;241m1\u001b[39m, num_epochs \u001b[38;5;241m+\u001b[39m \u001b[38;5;241m1\u001b[39m):\n\u001b[1;32m---> 13\u001b[0m     train_loss, train_acc \u001b[38;5;241m=\u001b[39m \u001b[43mtrain_epoch\u001b[49m\u001b[43m(\u001b[49m\n\u001b[0;32m     14\u001b[0m \u001b[43m        \u001b[49m\u001b[43mmodel\u001b[49m\u001b[43m,\u001b[49m\u001b[43m \u001b[49m\u001b[43mdevice\u001b[49m\u001b[43m,\u001b[49m\u001b[43m \u001b[49m\u001b[43mtrain_data_images\u001b[49m\u001b[43m,\u001b[49m\u001b[43m \u001b[49m\u001b[43mtrain_data_groundtruth\u001b[49m\u001b[43m,\u001b[49m\u001b[43m \u001b[49m\u001b[43moptimizer\u001b[49m\u001b[43m,\u001b[49m\u001b[43m \u001b[49m\u001b[43mepoch\u001b[49m\u001b[43m,\u001b[49m\u001b[43m \u001b[49m\u001b[43mcriterion\u001b[49m\u001b[43m)\u001b[49m\n\u001b[0;32m     15\u001b[0m     train_loss_history\u001b[38;5;241m.\u001b[39mextend(train_loss)\n\u001b[0;32m     16\u001b[0m     train_acc_history\u001b[38;5;241m.\u001b[39mextend(train_acc)\n",
      "Input \u001b[1;32mIn [184]\u001b[0m, in \u001b[0;36mtrain_epoch\u001b[1;34m(model, device, train_data_images, train_data_groundtruth, optimizer, max_iter, criterion)\u001b[0m\n\u001b[0;32m     12\u001b[0m y \u001b[38;5;241m=\u001b[39m y\u001b[38;5;241m.\u001b[39mto(device)\n\u001b[0;32m     14\u001b[0m y_hat \u001b[38;5;241m=\u001b[39m model(x)       \n\u001b[1;32m---> 15\u001b[0m loss \u001b[38;5;241m=\u001b[39m \u001b[43mcriterion\u001b[49m\u001b[43m(\u001b[49m\u001b[43my_hat\u001b[49m\u001b[43m,\u001b[49m\u001b[43m \u001b[49m\u001b[43my\u001b[49m\u001b[43m)\u001b[49m\n\u001b[0;32m     17\u001b[0m optimizer\u001b[38;5;241m.\u001b[39mzero_grad()\n\u001b[0;32m     18\u001b[0m loss\u001b[38;5;241m.\u001b[39mbackward()\n",
      "File \u001b[1;32m~\\OneDrive\\Documents\\EPFL\\MA1\\Anaconda\\lib\\site-packages\\torch\\nn\\functional.py:3026\u001b[0m, in \u001b[0;36mcross_entropy\u001b[1;34m(input, target, weight, size_average, ignore_index, reduce, reduction, label_smoothing)\u001b[0m\n\u001b[0;32m   3024\u001b[0m \u001b[38;5;28;01mif\u001b[39;00m size_average \u001b[38;5;129;01mis\u001b[39;00m \u001b[38;5;129;01mnot\u001b[39;00m \u001b[38;5;28;01mNone\u001b[39;00m \u001b[38;5;129;01mor\u001b[39;00m reduce \u001b[38;5;129;01mis\u001b[39;00m \u001b[38;5;129;01mnot\u001b[39;00m \u001b[38;5;28;01mNone\u001b[39;00m:\n\u001b[0;32m   3025\u001b[0m     reduction \u001b[38;5;241m=\u001b[39m _Reduction\u001b[38;5;241m.\u001b[39mlegacy_get_string(size_average, reduce)\n\u001b[1;32m-> 3026\u001b[0m \u001b[38;5;28;01mreturn\u001b[39;00m \u001b[43mtorch\u001b[49m\u001b[38;5;241;43m.\u001b[39;49m\u001b[43m_C\u001b[49m\u001b[38;5;241;43m.\u001b[39;49m\u001b[43m_nn\u001b[49m\u001b[38;5;241;43m.\u001b[39;49m\u001b[43mcross_entropy_loss\u001b[49m\u001b[43m(\u001b[49m\u001b[38;5;28;43minput\u001b[39;49m\u001b[43m,\u001b[49m\u001b[43m \u001b[49m\u001b[43mtarget\u001b[49m\u001b[43m,\u001b[49m\u001b[43m \u001b[49m\u001b[43mweight\u001b[49m\u001b[43m,\u001b[49m\u001b[43m \u001b[49m\u001b[43m_Reduction\u001b[49m\u001b[38;5;241;43m.\u001b[39;49m\u001b[43mget_enum\u001b[49m\u001b[43m(\u001b[49m\u001b[43mreduction\u001b[49m\u001b[43m)\u001b[49m\u001b[43m,\u001b[49m\u001b[43m \u001b[49m\u001b[43mignore_index\u001b[49m\u001b[43m,\u001b[49m\u001b[43m \u001b[49m\u001b[43mlabel_smoothing\u001b[49m\u001b[43m)\u001b[49m\n",
      "\u001b[1;31mValueError\u001b[0m: Expected input batch_size (3) to match target batch_size (1)."
     ]
    }
   ],
   "source": [
    "lr = 5e-3\n",
    "num_epochs = 2\n",
    "device = set_device()\n",
    "\n",
    "run_mnist_training(num_epochs, lr, device)"
   ]
  },
  {
   "cell_type": "code",
   "execution_count": null,
   "id": "d4f8c690-e080-4a73-9f2e-c3607e50892b",
   "metadata": {},
   "outputs": [],
   "source": []
  }
 ],
 "metadata": {
  "kernelspec": {
   "display_name": "Python 3 (ipykernel)",
   "language": "python",
   "name": "python3"
  },
  "language_info": {
   "codemirror_mode": {
    "name": "ipython",
    "version": 3
   },
   "file_extension": ".py",
   "mimetype": "text/x-python",
   "name": "python",
   "nbconvert_exporter": "python",
   "pygments_lexer": "ipython3",
   "version": "3.9.12"
  }
 },
 "nbformat": 4,
 "nbformat_minor": 5
}
